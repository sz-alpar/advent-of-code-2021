{
 "cells": [
  {
   "cell_type": "code",
   "execution_count": 1,
   "metadata": {},
   "outputs": [],
   "source": [
    "import ipytest\n",
    "ipytest.autoconfig()"
   ]
  },
  {
   "cell_type": "markdown",
   "metadata": {},
   "source": [
    "Read numbers from the input:"
   ]
  },
  {
   "cell_type": "code",
   "execution_count": 2,
   "metadata": {},
   "outputs": [
    {
     "name": "stdout",
     "output_type": "stream",
     "text": [
      "\u001b[1m======================================= test session starts ========================================\u001b[0m\n",
      "platform darwin -- Python 3.9.4, pytest-6.2.5, py-1.11.0, pluggy-1.0.0 -- /Users/alpar/.pyenv/versions/3.9.4/bin/python\n",
      "cachedir: .pytest_cache\n",
      "rootdir: /Users/alpar/Documents/Projects/advent-of-code-2021/jupyter-notebook\n",
      "plugins: anyio-3.4.0\n",
      "\u001b[1mcollecting ... \u001b[0mcollected 1 item\n",
      "\n",
      "tmpmg2445og.py::test_read_numbers_until_end_of_line \u001b[32mPASSED\u001b[0m\u001b[32m                                   [100%]\u001b[0m\n",
      "\n",
      "\u001b[32m======================================== \u001b[32m\u001b[1m1 passed\u001b[0m\u001b[32m in 0.01s\u001b[0m\u001b[32m =========================================\u001b[0m\n"
     ]
    }
   ],
   "source": [
    "%%ipytest -vv\n",
    "\n",
    "def to_int(array):\n",
    "  return [int(x) for x in array]\n",
    "\n",
    "def read_numbers_from_file(file_path):\n",
    "  with open(file_path) as f:\n",
    "    for line in f:\n",
    "      return to_int(line.split(\",\"))\n",
    "\n",
    "def test_read_numbers_until_end_of_line():\n",
    "  file = \"day6-test.input\"\n",
    "  numbers = read_numbers_from_file(file)\n",
    "  assert numbers == [3,4,3,1,2]"
   ]
  },
  {
   "cell_type": "markdown",
   "metadata": {},
   "source": [
    "Advance one day:"
   ]
  },
  {
   "cell_type": "code",
   "execution_count": 3,
   "metadata": {},
   "outputs": [
    {
     "name": "stdout",
     "output_type": "stream",
     "text": [
      "\u001b[1m======================================= test session starts ========================================\u001b[0m\n",
      "platform darwin -- Python 3.9.4, pytest-6.2.5, py-1.11.0, pluggy-1.0.0 -- /Users/alpar/.pyenv/versions/3.9.4/bin/python\n",
      "cachedir: .pytest_cache\n",
      "rootdir: /Users/alpar/Documents/Projects/advent-of-code-2021/jupyter-notebook\n",
      "plugins: anyio-3.4.0\n",
      "\u001b[1mcollecting ... \u001b[0mcollected 4 items\n",
      "\n",
      "tmpqip8n_p9.py::test_new_day_decreases_internal_timer \u001b[32mPASSED\u001b[0m\u001b[32m                                 [ 25%]\u001b[0m\n",
      "tmpqip8n_p9.py::test_new_day_does_not_create_fish_if_internal_timer_is_not_0 \u001b[32mPASSED\u001b[0m\u001b[32m          [ 50%]\u001b[0m\n",
      "tmpqip8n_p9.py::test_new_day_resets_internal_timer_if_it_is_0 \u001b[32mPASSED\u001b[0m\u001b[32m                         [ 75%]\u001b[0m\n",
      "tmpqip8n_p9.py::test_new_day_creates_fish_if_internal_timer_is_0 \u001b[32mPASSED\u001b[0m\u001b[32m                      [100%]\u001b[0m\n",
      "\n",
      "\u001b[32m======================================== \u001b[32m\u001b[1m4 passed\u001b[0m\u001b[32m in 0.03s\u001b[0m\u001b[32m =========================================\u001b[0m\n"
     ]
    }
   ],
   "source": [
    "%%ipytest -vv\n",
    "\n",
    "def advance_one_day_for_fish(internal_timer):\n",
    "  if internal_timer > 0: \n",
    "    return (internal_timer - 1, 0)\n",
    "  else:\n",
    "    return (6, 8)\n",
    "\n",
    "def test_new_day_decreases_internal_timer():\n",
    "  internal_timer = 6\n",
    "  (new_timer, _) = advance_one_day_for_fish(internal_timer)\n",
    "  assert new_timer == 5\n",
    "\n",
    "def test_new_day_does_not_create_fish_if_internal_timer_is_not_0():\n",
    "  internal_timer = 3\n",
    "  (_, new_fish) = advance_one_day_for_fish(internal_timer)\n",
    "  assert new_fish == 0\n",
    "\n",
    "def test_new_day_resets_internal_timer_if_it_is_0():\n",
    "  internal_timer = 0\n",
    "  (new_timer, _) = advance_one_day_for_fish(internal_timer)\n",
    "  assert new_timer == 6\n",
    "\n",
    "def test_new_day_creates_fish_if_internal_timer_is_0():\n",
    "  internal_timer = 0\n",
    "  (_, new_fish) = advance_one_day_for_fish(internal_timer)\n",
    "  assert new_fish == 8"
   ]
  },
  {
   "cell_type": "markdown",
   "metadata": {},
   "source": [
    "Advance 80 days on test input:"
   ]
  },
  {
   "cell_type": "code",
   "execution_count": 4,
   "metadata": {},
   "outputs": [
    {
     "name": "stdout",
     "output_type": "stream",
     "text": [
      "\u001b[1m======================================= test session starts ========================================\u001b[0m\n",
      "platform darwin -- Python 3.9.4, pytest-6.2.5, py-1.11.0, pluggy-1.0.0 -- /Users/alpar/.pyenv/versions/3.9.4/bin/python\n",
      "cachedir: .pytest_cache\n",
      "rootdir: /Users/alpar/Documents/Projects/advent-of-code-2021/jupyter-notebook\n",
      "plugins: anyio-3.4.0\n",
      "\u001b[1mcollecting ... \u001b[0mcollected 3 items\n",
      "\n",
      "tmp1ss0517c.py::test_advance_80_days_slow \u001b[32mPASSED\u001b[0m\u001b[32m                                             [ 33%]\u001b[0m\n",
      "tmp1ss0517c.py::test_advance_80_days_faster \u001b[32mPASSED\u001b[0m\u001b[32m                                           [ 66%]\u001b[0m\n",
      "tmp1ss0517c.py::test_advance_80_days_even_faster \u001b[32mPASSED\u001b[0m\u001b[32m                                      [100%]\u001b[0m\n",
      "\n",
      "\u001b[32m======================================== \u001b[32m\u001b[1m3 passed\u001b[0m\u001b[32m in 0.04s\u001b[0m\u001b[32m =========================================\u001b[0m\n"
     ]
    }
   ],
   "source": [
    "%%ipytest -vv\n",
    "\n",
    "# faster\n",
    "def new_fishes_from_fish_in_days(fish_timer, days):\n",
    "  remaining_days = days - fish_timer\n",
    "  if days <= 0 or remaining_days < 0:\n",
    "    return 0\n",
    "  return 1 + new_fishes_from_fish_in_days(0, remaining_days - 7) + new_fishes_from_fish_in_days(0, remaining_days - 9)\n",
    "\n",
    "def calculate_nr_of_fishes_after_days(fishes, days):\n",
    "  nr_of_fishes = len(fishes)\n",
    "  for fish in fishes:\n",
    "    nr_of_fishes += new_fishes_from_fish_in_days(fish, days)\n",
    "  return nr_of_fishes\n",
    "\n",
    "# even faster\n",
    "# Kudos to Bradley Sward: https://www.youtube.com/watch?v=HwkkPA0sE9I\n",
    "def calculate_nr_of_fishes_after_days_even_faster(fishes, days):\n",
    "  number_occurences = {}\n",
    "  for number in range(9):\n",
    "    number_occurences[number] = 0\n",
    "  for fish_timer in fishes:\n",
    "    number_occurences[fish_timer] += 1\n",
    "  for _ in range(days):\n",
    "    zeroes = number_occurences[0]\n",
    "    number_occurences[0] = 0\n",
    "    for number in range(1, len(number_occurences)):\n",
    "      number_occurences[number - 1] += number_occurences[number]\n",
    "      number_occurences[number] = 0\n",
    "    number_occurences[6] += zeroes\n",
    "    number_occurences[8] += zeroes\n",
    "\n",
    "  nr_of_fishes = 0\n",
    "  for number in number_occurences:\n",
    "    nr_of_fishes += number_occurences[number]\n",
    "\n",
    "  return nr_of_fishes\n",
    "\n",
    "# sloooow\n",
    "def advance_days_for_fishes(fishes, days):\n",
    "  result = fishes\n",
    "  for day in range(days):\n",
    "    new_fishes = []\n",
    "    for (idx, fish) in enumerate(result):\n",
    "      (new_timer, new_fish) = advance_one_day_for_fish(fish)\n",
    "      result[idx] = new_timer\n",
    "      if (new_fish > 0):\n",
    "        new_fishes.append(new_fish)\n",
    "    result.extend(new_fishes)\n",
    "  return result\n",
    "\n",
    "def test_advance_80_days_slow():\n",
    "  file = \"day6-test.input\"\n",
    "  fishes = read_numbers_from_file(file)\n",
    "  new_fishes = advance_days_for_fishes(fishes, 80)\n",
    "  assert len(new_fishes) == 5934\n",
    "\n",
    "def test_advance_80_days_faster():\n",
    "  file = \"day6-test.input\"\n",
    "  fishes = read_numbers_from_file(file)\n",
    "  new_fishes = calculate_nr_of_fishes_after_days(fishes, 80)\n",
    "  assert new_fishes == 5934\n",
    "\n",
    "def test_advance_80_days_even_faster():\n",
    "  file = \"day6-test.input\"\n",
    "  fishes = read_numbers_from_file(file)\n",
    "  new_fishes = calculate_nr_of_fishes_after_days_even_faster(fishes, 80)\n",
    "  assert new_fishes == 5934"
   ]
  },
  {
   "cell_type": "markdown",
   "metadata": {},
   "source": [
    "Solution part 1:"
   ]
  },
  {
   "cell_type": "code",
   "execution_count": 5,
   "metadata": {},
   "outputs": [
    {
     "name": "stdout",
     "output_type": "stream",
     "text": [
      "389726\n"
     ]
    }
   ],
   "source": [
    "file = \"day6.input\"\n",
    "fishes = read_numbers_from_file(file)\n",
    "result = calculate_nr_of_fishes_after_days(fishes, 80)\n",
    "print(result)"
   ]
  },
  {
   "cell_type": "markdown",
   "metadata": {},
   "source": [
    "Advance 256 days on test input:"
   ]
  },
  {
   "cell_type": "code",
   "execution_count": 6,
   "metadata": {},
   "outputs": [
    {
     "name": "stdout",
     "output_type": "stream",
     "text": [
      "\u001b[1m======================================= test session starts ========================================\u001b[0m\n",
      "platform darwin -- Python 3.9.4, pytest-6.2.5, py-1.11.0, pluggy-1.0.0 -- /Users/alpar/.pyenv/versions/3.9.4/bin/python\n",
      "cachedir: .pytest_cache\n",
      "rootdir: /Users/alpar/Documents/Projects/advent-of-code-2021/jupyter-notebook\n",
      "plugins: anyio-3.4.0\n",
      "\u001b[1mcollecting ... \u001b[0mcollected 1 item\n",
      "\n",
      "tmpb677xo2i.py::test_advance_256_days \u001b[32mPASSED\u001b[0m\u001b[32m                                                 [100%]\u001b[0m\n",
      "\n",
      "\u001b[32m======================================== \u001b[32m\u001b[1m1 passed\u001b[0m\u001b[32m in 0.01s\u001b[0m\u001b[32m =========================================\u001b[0m\n"
     ]
    }
   ],
   "source": [
    "%%ipytest -vv\n",
    "\n",
    "def test_advance_256_days():\n",
    "  file = \"day6-test.input\"\n",
    "  fishes = read_numbers_from_file(file)\n",
    "  new_fishes = calculate_nr_of_fishes_after_days_even_faster(fishes, 256)\n",
    "  assert new_fishes == 26_984_457_539"
   ]
  },
  {
   "cell_type": "markdown",
   "metadata": {},
   "source": [
    "Solution part 2:"
   ]
  },
  {
   "cell_type": "code",
   "execution_count": 7,
   "metadata": {},
   "outputs": [
    {
     "name": "stdout",
     "output_type": "stream",
     "text": [
      "1743335992042\n"
     ]
    }
   ],
   "source": [
    "file = \"day6.input\"\n",
    "fishes = read_numbers_from_file(file)\n",
    "new_fishes = calculate_nr_of_fishes_after_days_even_faster(fishes, 256)\n",
    "print(new_fishes)"
   ]
  }
 ],
 "metadata": {
  "interpreter": {
   "hash": "8fbb8a35216137c772573c13ebc33c2d3acf14ff0612baf843a1fd6d63fc9b50"
  },
  "kernelspec": {
   "display_name": "Python 3.9.4 64-bit ('3.9.4': pyenv)",
   "language": "python",
   "name": "python3"
  },
  "language_info": {
   "codemirror_mode": {
    "name": "ipython",
    "version": 3
   },
   "file_extension": ".py",
   "mimetype": "text/x-python",
   "name": "python",
   "nbconvert_exporter": "python",
   "pygments_lexer": "ipython3",
   "version": "3.9.4"
  },
  "orig_nbformat": 4
 },
 "nbformat": 4,
 "nbformat_minor": 2
}
