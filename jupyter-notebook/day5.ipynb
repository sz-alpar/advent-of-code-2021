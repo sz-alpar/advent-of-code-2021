{
 "cells": [
  {
   "cell_type": "code",
   "execution_count": 159,
   "metadata": {},
   "outputs": [],
   "source": [
    "import ipytest\n",
    "ipytest.autoconfig()"
   ]
  },
  {
   "cell_type": "markdown",
   "id": "8eaf9d99",
   "metadata": {},
   "source": [
    "Read lines from the input:"
   ]
  },
  {
   "cell_type": "code",
   "execution_count": 160,
   "id": "404e3344",
   "metadata": {},
   "outputs": [
    {
     "name": "stdout",
     "output_type": "stream",
     "text": [
      "\u001b[1m======================================= test session starts ========================================\u001b[0m\n",
      "platform darwin -- Python 3.9.4, pytest-6.2.5, py-1.11.0, pluggy-1.0.0 -- /Users/alpar/.pyenv/versions/3.9.4/bin/python\n",
      "cachedir: .pytest_cache\n",
      "rootdir: /Users/alpar/Documents/Projects/advent-of-code-2021/jupyter-notebook\n",
      "plugins: anyio-3.4.0\n",
      "\u001b[1mcollecting ... \u001b[0mcollected 1 item\n",
      "\n",
      "tmpcfh1wmb3.py::test_read_lines \u001b[32mPASSED\u001b[0m\u001b[32m                                                       [100%]\u001b[0m\n",
      "\n",
      "\u001b[32m======================================== \u001b[32m\u001b[1m1 passed\u001b[0m\u001b[32m in 0.01s\u001b[0m\u001b[32m =========================================\u001b[0m\n"
     ]
    }
   ],
   "source": [
    "%%ipytest -vv\n",
    "\n",
    "def to_int(array):\n",
    "  return [int(x) for x in array]\n",
    "\n",
    "def read_lines(file_path):\n",
    "  lines = []\n",
    "  with open(file_path) as f:\n",
    "    for line in f:\n",
    "      line = line.rstrip('\\n')\n",
    "      coordinates = line.split(\" -> \")\n",
    "      start_coordinate = to_int(coordinates[0].split(','))\n",
    "      end_coordinate = to_int(coordinates[1].split(','))\n",
    "      lines.append((tuple(start_coordinate), tuple(end_coordinate)))\n",
    "  return lines\n",
    "\n",
    "def test_read_lines():\n",
    "  file_path = \"day5-test.input\"\n",
    "  lines = read_lines(file_path)\n",
    "  assert lines == [((0,9), (5,9)),\n",
    "                  ((8,0), (0,8)),\n",
    "                  ((9,4), (3,4)),\n",
    "                  ((2,2), (2,1)),\n",
    "                  ((7,0), (7,4)),\n",
    "                  ((6,4), (2,0)),\n",
    "                  ((0,9), (2,9)),\n",
    "                  ((3,4), (1,4)),\n",
    "                  ((0,0), (8,8)),\n",
    "                  ((5,5), (8,2))]"
   ]
  },
  {
   "cell_type": "markdown",
   "id": "3ed6af73",
   "metadata": {},
   "source": [
    "Consider only horizontal or vertical lines:"
   ]
  },
  {
   "cell_type": "code",
   "execution_count": 161,
   "id": "17c53fbb",
   "metadata": {},
   "outputs": [
    {
     "name": "stdout",
     "output_type": "stream",
     "text": [
      "\u001b[1m======================================= test session starts ========================================\u001b[0m\n",
      "platform darwin -- Python 3.9.4, pytest-6.2.5, py-1.11.0, pluggy-1.0.0 -- /Users/alpar/.pyenv/versions/3.9.4/bin/python\n",
      "cachedir: .pytest_cache\n",
      "rootdir: /Users/alpar/Documents/Projects/advent-of-code-2021/jupyter-notebook\n",
      "plugins: anyio-3.4.0\n",
      "\u001b[1mcollecting ... \u001b[0mcollected 1 item\n",
      "\n",
      "tmp7ey2z03v.py::test_keep_only_vertical_or_horizontal_lines \u001b[32mPASSED\u001b[0m\u001b[32m                           [100%]\u001b[0m\n",
      "\n",
      "\u001b[32m======================================== \u001b[32m\u001b[1m1 passed\u001b[0m\u001b[32m in 0.02s\u001b[0m\u001b[32m =========================================\u001b[0m\n"
     ]
    }
   ],
   "source": [
    "%%ipytest -vv\n",
    "\n",
    "def keep_only_vertical_or_horizontal_lines(lines):\n",
    "  return [line for line in lines if line[0][0] == line[1][0] or line[0][1] == line[1][1]]\n",
    "\n",
    "def test_keep_only_vertical_or_horizontal_lines():\n",
    "  file_path = \"day5-test.input\"\n",
    "  lines = read_lines(file_path)\n",
    "  filtered = keep_only_vertical_or_horizontal_lines(lines)\n",
    "  assert filtered == [((0,9), (5,9)),\n",
    "                  ((9,4), (3,4)),\n",
    "                  ((2,2), (2,1)),\n",
    "                  ((7,0), (7,4)),\n",
    "                  ((0,9), (2,9)),\n",
    "                  ((3,4), (1,4))]"
   ]
  },
  {
   "cell_type": "markdown",
   "id": "dab5c338",
   "metadata": {},
   "source": [
    "Determine diagram size:"
   ]
  },
  {
   "cell_type": "code",
   "execution_count": 162,
   "id": "f0eb61a7",
   "metadata": {},
   "outputs": [
    {
     "name": "stdout",
     "output_type": "stream",
     "text": [
      "\u001b[1m======================================= test session starts ========================================\u001b[0m\n",
      "platform darwin -- Python 3.9.4, pytest-6.2.5, py-1.11.0, pluggy-1.0.0 -- /Users/alpar/.pyenv/versions/3.9.4/bin/python\n",
      "cachedir: .pytest_cache\n",
      "rootdir: /Users/alpar/Documents/Projects/advent-of-code-2021/jupyter-notebook\n",
      "plugins: anyio-3.4.0\n",
      "\u001b[1mcollecting ... \u001b[0mcollected 1 item\n",
      "\n",
      "tmpxso0xyn6.py::test_diagram_size \u001b[32mPASSED\u001b[0m\u001b[32m                                                     [100%]\u001b[0m\n",
      "\n",
      "\u001b[32m======================================== \u001b[32m\u001b[1m1 passed\u001b[0m\u001b[32m in 0.01s\u001b[0m\u001b[32m =========================================\u001b[0m\n"
     ]
    }
   ],
   "source": [
    "%%ipytest -vv\n",
    "\n",
    "def diagram_size(lines):\n",
    "  return max([c for line in lines for coordinate in line for c in coordinate]) + 1\n",
    "\n",
    "def test_diagram_size():\n",
    "  file_path = \"day5-test.input\"\n",
    "  lines = read_lines(file_path)\n",
    "  size = diagram_size(lines)\n",
    "  assert size == 10"
   ]
  },
  {
   "cell_type": "markdown",
   "id": "72e85924",
   "metadata": {},
   "source": [
    "Draw vertical and horizontal lines on diagram:"
   ]
  },
  {
   "cell_type": "code",
   "execution_count": 163,
   "id": "e8626d30",
   "metadata": {},
   "outputs": [
    {
     "name": "stdout",
     "output_type": "stream",
     "text": [
      "\u001b[1m======================================= test session starts ========================================\u001b[0m\n",
      "platform darwin -- Python 3.9.4, pytest-6.2.5, py-1.11.0, pluggy-1.0.0 -- /Users/alpar/.pyenv/versions/3.9.4/bin/python\n",
      "cachedir: .pytest_cache\n",
      "rootdir: /Users/alpar/Documents/Projects/advent-of-code-2021/jupyter-notebook\n",
      "plugins: anyio-3.4.0\n",
      "\u001b[1mcollecting ... \u001b[0mcollected 1 item\n",
      "\n",
      "tmppxjpkqmv.py::test_draw_lines_on_diagram \u001b[32mPASSED\u001b[0m\u001b[32m                                            [100%]\u001b[0m\n",
      "\n",
      "\u001b[32m======================================== \u001b[32m\u001b[1m1 passed\u001b[0m\u001b[32m in 0.01s\u001b[0m\u001b[32m =========================================\u001b[0m\n"
     ]
    }
   ],
   "source": [
    "%%ipytest -vv\n",
    "\n",
    "def draw_point_on_diagram(diagram, diagram_size, coordinate):\n",
    "  idx = diagram_size * coordinate[1] + coordinate[0]\n",
    "  if diagram[idx] == '.':\n",
    "    diagram[idx] = 1\n",
    "  else:\n",
    "    diagram[idx] = diagram[idx] + 1\n",
    "\n",
    "def draw_line_on_diagram(diagram, diagram_size, line):\n",
    "  if line[0][0] == line[1][0]:\n",
    "    for idx in range_on_axis(line[0][1], line[1][1]):\n",
    "      draw_point_on_diagram(diagram, diagram_size, (line[0][0], idx))\n",
    "  elif line[0][1] == line[1][1]:\n",
    "    for idx in range_on_axis(line[0][0], line[1][0]):\n",
    "      draw_point_on_diagram(diagram, diagram_size, (idx, line[0][1]))\n",
    "  else:\n",
    "    for x in range_on_axis(line[0][0], line[1][0]):\n",
    "      y = y_for_x_on_line(x, line)\n",
    "      draw_point_on_diagram(diagram, diagram_size, (x, y))\n",
    "\n",
    "def range_on_axis(start, end):\n",
    "  if start < end:\n",
    "    return range(start, end + 1)\n",
    "  else:\n",
    "    return range(start, end - 1, -1)\n",
    "\n",
    "def y_for_x_on_line(x, line):\n",
    "  y = (((float(x) - float(line[0][0])) / (float(line[1][0]) - float(line[0][0]))) * (float(line[1][1]) - float(line[0][1]))) + float(line[0][1])\n",
    "  # print((x, y))\n",
    "  # print((x, round(y)))\n",
    "  return round(y)\n",
    "\n",
    "\"\"\"\n",
    "(y - y1) / (y2 - y1) = (x - x1) / (x2 - x1)\n",
    "(y - y1) = ((x - x1) / (x2 - x1)) * (y2 - y1)\n",
    "y = (((x - x1) / (x2 - x1)) * (y2 - y1)) + y1\n",
    "\"\"\"\n",
    "\n",
    "def create_diagram(lines):\n",
    "  size = diagram_size(lines)\n",
    "  return (['.' for _ in range(size) for _ in range(size)], size)\n",
    "\n",
    "def draw_lines_on_diagram(lines):\n",
    "  (diagram, size) = create_diagram(lines)\n",
    "  for line in lines:\n",
    "    draw_line_on_diagram(diagram, size, line)\n",
    "  return (diagram, size)\n",
    "\n",
    "def print_diagram(diagram, diagram_size):\n",
    "  output = \"\"\n",
    "  for (idx, value) in enumerate(diagram):\n",
    "    output += str(value)\n",
    "    if idx % diagram_size == diagram_size-1:\n",
    "      output += \"\\n\"\n",
    "  print(output)\n",
    "\n",
    "def test_draw_lines_on_diagram():\n",
    "  file_path = \"day5-test.input\"\n",
    "  lines = read_lines(file_path)\n",
    "  filtered = keep_only_vertical_or_horizontal_lines(lines)\n",
    "  (diagram, _) = draw_lines_on_diagram(filtered)\n",
    "  assert diagram == ['.','.','.','.','.','.','.', 1 ,'.','.',\n",
    "'.','.', 1 ,'.','.','.','.', 1 ,'.','.',\n",
    "'.','.', 1 ,'.','.','.','.', 1 ,'.','.',\n",
    "'.','.','.','.','.','.','.', 1 ,'.','.',\n",
    "'.', 1 , 1 , 2 , 1 , 1 , 1 , 2 , 1 , 1 ,\n",
    "'.','.','.','.','.','.','.','.','.','.',\n",
    "'.','.','.','.','.','.','.','.','.','.',\n",
    "'.','.','.','.','.','.','.','.','.','.',\n",
    "'.','.','.','.','.','.','.','.','.','.',\n",
    " 2 , 2 , 2 , 1 , 1 , 1 ,'.','.','.','.']\n"
   ]
  },
  {
   "cell_type": "markdown",
   "id": "f38ec02b",
   "metadata": {},
   "source": [
    "Number of points where at least two lines overlap:"
   ]
  },
  {
   "cell_type": "code",
   "execution_count": 164,
   "id": "9756ded9",
   "metadata": {},
   "outputs": [
    {
     "name": "stdout",
     "output_type": "stream",
     "text": [
      "\u001b[1m======================================= test session starts ========================================\u001b[0m\n",
      "platform darwin -- Python 3.9.4, pytest-6.2.5, py-1.11.0, pluggy-1.0.0 -- /Users/alpar/.pyenv/versions/3.9.4/bin/python\n",
      "cachedir: .pytest_cache\n",
      "rootdir: /Users/alpar/Documents/Projects/advent-of-code-2021/jupyter-notebook\n",
      "plugins: anyio-3.4.0\n",
      "\u001b[1mcollecting ... \u001b[0mcollected 1 item\n",
      "\n",
      "tmp7s18mq4b.py::test_number_of_points_where_at_least_two_lines_overlap \u001b[32mPASSED\u001b[0m\u001b[32m                [100%]\u001b[0m\n",
      "\n",
      "\u001b[32m======================================== \u001b[32m\u001b[1m1 passed\u001b[0m\u001b[32m in 0.02s\u001b[0m\u001b[32m =========================================\u001b[0m\n"
     ]
    }
   ],
   "source": [
    "%%ipytest -vv\n",
    "\n",
    "from functools import reduce\n",
    "\n",
    "def number_of_points_where_at_least_two_lines_overlap(diagram):\n",
    "  return reduce(lambda counter,point: counter+1 if point != '.' and point >= 2 else counter, diagram, 0)\n",
    "\n",
    "def test_number_of_points_where_at_least_two_lines_overlap():\n",
    "  file_path = \"day5-test.input\"\n",
    "  lines = read_lines(file_path)\n",
    "  filtered = keep_only_vertical_or_horizontal_lines(lines)\n",
    "  (diagram, _) = draw_lines_on_diagram(filtered)\n",
    "  result = number_of_points_where_at_least_two_lines_overlap(diagram)\n",
    "  assert result == 5\n",
    "\n"
   ]
  },
  {
   "cell_type": "markdown",
   "id": "814e8b85",
   "metadata": {},
   "source": [
    "Solution part 1:"
   ]
  },
  {
   "cell_type": "code",
   "execution_count": 165,
   "id": "7601e3c3",
   "metadata": {},
   "outputs": [
    {
     "name": "stdout",
     "output_type": "stream",
     "text": [
      "6564\n"
     ]
    }
   ],
   "source": [
    "file_path = \"day5.input\"\n",
    "lines = read_lines(file_path)\n",
    "filtered = keep_only_vertical_or_horizontal_lines(lines)\n",
    "(diagram, _) = draw_lines_on_diagram(filtered)\n",
    "result = number_of_points_where_at_least_two_lines_overlap(diagram)\n",
    "print(result)"
   ]
  },
  {
   "cell_type": "markdown",
   "id": "b5209498",
   "metadata": {},
   "source": [
    "Draw diagonal lines as well:"
   ]
  },
  {
   "cell_type": "code",
   "execution_count": 166,
   "id": "92fb8ebc",
   "metadata": {},
   "outputs": [
    {
     "name": "stdout",
     "output_type": "stream",
     "text": [
      "\u001b[1m======================================= test session starts ========================================\u001b[0m\n",
      "platform darwin -- Python 3.9.4, pytest-6.2.5, py-1.11.0, pluggy-1.0.0 -- /Users/alpar/.pyenv/versions/3.9.4/bin/python\n",
      "cachedir: .pytest_cache\n",
      "rootdir: /Users/alpar/Documents/Projects/advent-of-code-2021/jupyter-notebook\n",
      "plugins: anyio-3.4.0\n",
      "\u001b[1mcollecting ... \u001b[0mcollected 1 item\n",
      "\n",
      "tmpveeqeyuf.py::test_draw_lines_on_diagram \u001b[32mPASSED\u001b[0m\u001b[32m                                            [100%]\u001b[0m\n",
      "\n",
      "\u001b[32m======================================== \u001b[32m\u001b[1m1 passed\u001b[0m\u001b[32m in 0.02s\u001b[0m\u001b[32m =========================================\u001b[0m\n"
     ]
    }
   ],
   "source": [
    "%%ipytest -vv\n",
    "\n",
    "def test_draw_lines_on_diagram():\n",
    "  file_path = \"day5-test.input\"\n",
    "  lines = read_lines(file_path)\n",
    "  (diagram, size) = draw_lines_on_diagram(lines)\n",
    "  print_diagram(diagram, size)\n",
    "  assert diagram == [1 ,'.', 1 ,'.','.','.','.', 1 , 1 ,'.',\n",
    "'.', 1 , 1 , 1 ,'.','.','.', 2 ,'.','.',\n",
    "'.','.', 2 ,'.', 1 ,'.', 1 , 1 , 1 ,'.',\n",
    "'.','.','.', 1 ,'.', 2 ,'.', 2 ,'.','.',\n",
    "'.', 1 , 1 , 2 , 3 , 1 , 3 , 2 , 1 , 1 ,\n",
    "'.','.','.', 1 ,'.', 2 ,'.','.','.','.',\n",
    "'.','.', 1 ,'.','.','.', 1 ,'.','.','.',\n",
    "'.', 1 ,'.','.','.','.','.', 1 ,'.','.',\n",
    " 1 ,'.','.','.','.','.','.','.', 1 ,'.',\n",
    " 2 , 2 , 2 , 1 , 1 , 1 ,'.','.','.','.']"
   ]
  },
  {
   "cell_type": "markdown",
   "id": "496175a2",
   "metadata": {},
   "source": [
    "Number of points where at least two lines overlap including diagonal lines:"
   ]
  },
  {
   "cell_type": "code",
   "execution_count": 167,
   "id": "72d57236",
   "metadata": {},
   "outputs": [
    {
     "name": "stdout",
     "output_type": "stream",
     "text": [
      "\u001b[1m======================================= test session starts ========================================\u001b[0m\n",
      "platform darwin -- Python 3.9.4, pytest-6.2.5, py-1.11.0, pluggy-1.0.0 -- /Users/alpar/.pyenv/versions/3.9.4/bin/python\n",
      "cachedir: .pytest_cache\n",
      "rootdir: /Users/alpar/Documents/Projects/advent-of-code-2021/jupyter-notebook\n",
      "plugins: anyio-3.4.0\n",
      "\u001b[1mcollecting ... \u001b[0mcollected 1 item\n",
      "\n",
      "tmp2aa6andy.py::test_number_of_points_where_at_least_two_lines_overlap \u001b[32mPASSED\u001b[0m\u001b[32m                [100%]\u001b[0m\n",
      "\n",
      "\u001b[32m======================================== \u001b[32m\u001b[1m1 passed\u001b[0m\u001b[32m in 0.01s\u001b[0m\u001b[32m =========================================\u001b[0m\n"
     ]
    }
   ],
   "source": [
    "%%ipytest -vv\n",
    "\n",
    "def test_number_of_points_where_at_least_two_lines_overlap():\n",
    "  file_path = \"day5-test.input\"\n",
    "  lines = read_lines(file_path)\n",
    "  (diagram, _) = draw_lines_on_diagram(lines)\n",
    "  result = number_of_points_where_at_least_two_lines_overlap(diagram)\n",
    "  assert result == 12"
   ]
  },
  {
   "cell_type": "markdown",
   "id": "ed3b94ea",
   "metadata": {},
   "source": [
    "Solution part 2:"
   ]
  },
  {
   "cell_type": "code",
   "execution_count": 168,
   "id": "6071bad9",
   "metadata": {},
   "outputs": [
    {
     "name": "stdout",
     "output_type": "stream",
     "text": [
      "19172\n"
     ]
    }
   ],
   "source": [
    "file_path = \"day5.input\"\n",
    "lines = read_lines(file_path)\n",
    "(diagram, size) = draw_lines_on_diagram(lines)\n",
    "result = number_of_points_where_at_least_two_lines_overlap(diagram)\n",
    "print(result)"
   ]
  }
 ],
 "metadata": {
  "interpreter": {
   "hash": "8fbb8a35216137c772573c13ebc33c2d3acf14ff0612baf843a1fd6d63fc9b50"
  },
  "kernelspec": {
   "display_name": "Python 3.9.4 64-bit ('3.9.4': pyenv)",
   "language": "python",
   "name": "python3"
  },
  "language_info": {
   "codemirror_mode": {
    "name": "ipython",
    "version": 3
   },
   "file_extension": ".py",
   "mimetype": "text/x-python",
   "name": "python",
   "nbconvert_exporter": "python",
   "pygments_lexer": "ipython3",
   "version": "3.9.4"
  }
 },
 "nbformat": 4,
 "nbformat_minor": 5
}
