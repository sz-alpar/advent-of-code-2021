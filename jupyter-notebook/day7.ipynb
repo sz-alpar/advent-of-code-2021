{
 "cells": [
  {
   "cell_type": "code",
   "execution_count": null,
   "metadata": {},
   "outputs": [],
   "source": [
    "import ipytest\n",
    "ipytest.autoconfig()"
   ]
  },
  {
   "cell_type": "markdown",
   "metadata": {},
   "source": [
    "Read numbers from the input:"
   ]
  },
  {
   "cell_type": "code",
   "execution_count": null,
   "metadata": {},
   "outputs": [],
   "source": [
    "%%ipytest -vv\n",
    "\n",
    "def to_int(array):\n",
    "  return [int(x) for x in array]\n",
    "\n",
    "def read_numbers_from_file(file_path):\n",
    "  with open(file_path) as f:\n",
    "    for line in f:\n",
    "      return to_int(line.split(\",\"))\n",
    "\n",
    "def test_read_numbers_until_end_of_line():\n",
    "  file = \"day7-test.input\"\n",
    "  numbers = read_numbers_from_file(file)\n",
    "  assert numbers == [16,1,2,0,4,2,7,1,2,14]"
   ]
  },
  {
   "cell_type": "markdown",
   "metadata": {},
   "source": [
    "Find least costly horizontal position:"
   ]
  },
  {
   "cell_type": "code",
   "execution_count": null,
   "metadata": {},
   "outputs": [],
   "source": [
    "%%ipytest -vv\n",
    "\n",
    "def geometric_median(numbers):\n",
    "  numbers.sort()\n",
    "  length = len(numbers)\n",
    "  if length % 2 == 0:\n",
    "    return (numbers[length // 2 - 1] + numbers[length // 2]) / 2\n",
    "  else:\n",
    "    return numbers[(length - 1) // 2] \n",
    "\n",
    "def test_geometric_median():\n",
    "  assert geometric_median([1]) == 1\n",
    "  assert geometric_median([1, 1]) == 1\n",
    "  assert geometric_median([1, 1, 1]) == 1\n",
    "  assert geometric_median([3, 1, 2]) == 2\n",
    "  assert geometric_median([1, 2, 3, 4]) == 2.5\n",
    "  assert geometric_median([4, 1, 3, 2]) == 2.5\n",
    "  assert geometric_median([8, 3, 12, 16]) == 10\n",
    "\n",
    "def find_least_costly_horizontal_position(crabs):\n",
    "  # The least costly position is the gemetric median of all positions: https://en.wikipedia.org/wiki/Geometric_median\n",
    "  return geometric_median(crabs)\n",
    "\n",
    "def test_find_least_costly_horizontal_position():\n",
    "  file_path = \"day7-test.input\"\n",
    "  crabs = read_numbers_from_file(file_path)\n",
    "  optimal_horizontal_position = find_least_costly_horizontal_position(crabs)\n",
    "  assert optimal_horizontal_position == 2"
   ]
  },
  {
   "cell_type": "markdown",
   "metadata": {},
   "source": [
    "Calculate total cost to move all to a horizontal position:"
   ]
  },
  {
   "cell_type": "code",
   "execution_count": null,
   "metadata": {},
   "outputs": [],
   "source": [
    "%%ipytest -vv\n",
    "\n",
    "from functools import reduce\n",
    "\n",
    "def cost_of_moving_all_to_position(crabs, horizontal_position):\n",
    "  return reduce(lambda cost,crab: cost+(abs(crab - horizontal_position)), crabs, 0)\n",
    "\n",
    "def test_cost_of_moving_all_to_position():\n",
    "  file_path = \"day7-test.input\"\n",
    "  crabs = read_numbers_from_file(file_path)\n",
    "  optimal_horizontal_position = find_least_costly_horizontal_position(crabs)\n",
    "  cost = cost_of_moving_all_to_position(crabs, optimal_horizontal_position)\n",
    "  assert cost == 37"
   ]
  },
  {
   "cell_type": "markdown",
   "metadata": {},
   "source": [
    "Solution part 1:"
   ]
  },
  {
   "cell_type": "code",
   "execution_count": null,
   "metadata": {},
   "outputs": [],
   "source": [
    "file_path = \"day7.input\"\n",
    "crabs = read_numbers_from_file(file_path)\n",
    "optimal_horizontal_position = find_least_costly_horizontal_position(crabs)\n",
    "cost = cost_of_moving_all_to_position(crabs, optimal_horizontal_position)\n",
    "print(cost)"
   ]
  },
  {
   "cell_type": "markdown",
   "metadata": {},
   "source": [
    "Solution part2:\n",
    "\n",
    "```\n",
    "    1  2  3  4  5  6  7  8  9   10 \n",
    "\n",
    "    0, 1, 1, 2, 2, 2, 4, 7, 14, 16\n",
    "\n",
    "0:  0, 1, 1, 2, 2, 2, 4, 7, 14, 16  49\n",
    "    +  -  -  -  -  -  -  -  -   -\n",
    "1:  1, 0, 0, 1, 1, 1, 3, 6, 13, 15  41\n",
    "    +  +  +  -  -  -  -  -  -   -\n",
    "2:  2, 1, 1, 0, 0, 0, 2, 5, 12, 14  37\n",
    "    +  +  +  +  +  +  -  -  -   -\n",
    "3:  3, 2, 2, 1, 1, 1, 1, 4, 11, 13  39\n",
    "\n",
    "0 - 1\n",
    "1 - 2\n",
    "2 - 3\n",
    "3 - 0\n",
    "4 - 1\n",
    "...\n",
    "7 - 1\n",
    "...\n",
    "14 - 1\n",
    "...\n",
    "16 - 1\n",
    "\n",
    "0: (0-0)*1 + (2-0)*1 + (3-0)*2 + (4-0)*1 + (7-0)*1 + (14-0)*1 + (16-0)*1 = 49\n",
    "1: 49 + nr_of_crabs_at(0) - (nr_of_crabs - nr_of_crabs_at(0)) = 49 + 1 - 9 = 41\n",
    "2: 49 + ((2-0)-0)*nr_of_crabs_at(0) + ((2-1)-1)*nr_of_crabs_at(1) - 2*nr_of_crabs_at(2) - 2*(nr_of_crabs - nr_of_crabs_at(0) - nr_of_crabs_at(1) - nr_of_crabs_at(2))\n",
    "=  49 + 2 + 0 - 6 - 2*(10 - 1 - 2 - 3) = 37\n",
    "3: 49 + ((3-0)-0)*nr_of_crabs_at(0) + ((3-1)-1)*nr_of_crabs_at(1) + ((3-2)-2)*nr_of_crabs_at(2) - 3*nr_of_crabs_at(3) - 3*(nr_of_crabs - nr_of_crabs_at(0..3))\n",
    "= 49 + 3 + 2 - 3 - 0 - 3*(10 - 1 - 2 - 3) = 39\n",
    "\n",
    "with knowing previous cost:\n",
    "3: 37 + (nr_of_crabs_before(3)) - (nr_of_crabs_after(3)) = 37 + 6 - 4 = 39\n",
    "\n",
    "with increasing cost:\n",
    "    1   2   3   4   5   6   7   8   9    10 \n",
    "\n",
    "    0,  1,  1,  2,  2,  2,  4,  7,  14,  16\n",
    "\n",
    "0:  0,  1,  1,  2,  2,  2,  4,  7,  14,  16     290\n",
    "    0   1   1   3   3   3   10   28  105  136\n",
    "\n",
    "1:  1,  0,  0,  1,  1,  1,  3,  6,  13,  15     242\n",
    "    1   0   0   1   1   1   6   21  91   120\n",
    "\n",
    "2:  2,  1,  1,  0,  0,  0,  2,  5,  12,  14     206\n",
    "    3   1   1   0   0   0   3   15  78   105\n",
    "\n",
    "3:  3,  2,  2,  1,  1,  1,  1,  4,  11,  13     183\n",
    "    6   3   3   1   1   1   1   10  66   91\n",
    "\n",
    "4:  4,  3,  3,  2,  2,  2,  0,  3,  10,  12     x\n",
    "    10  6   6   3   3   3   0   6   55   78\n",
    "\n",
    "with knowing previous cost:\n",
    "3: 206 - nr_of_crabs_at(3) + (sum_of_costs_before(3)) - (sum_of_costs_after(3)) = 206 + (3 + 2*2 + 1*3) - (2*1 + 5*1 + 12*1 + 14*1) = 183\n",
    "\n",
    "sum_of_costs_before(3) = 3*nr_of_crabs_at(0) + (3-1)*nr_of_crabs_at(1) + (3-2)*nr_of_crabs_at(2)\n",
    "sum_of_costs_after(3) = (4-(3-1))*nr_of_crabs_at(4) + (5-(3-1))*nr_of_crabs_at(5) + (6-(3-1))*nr_of_crabs_at(6) + (7-(3-1))*nr_of_crabs_at(7) + ... + (16-(3-1))*nr_of_crabs_at(16)\n",
    ")\n",
    "\n",
    "1: 290 - nr_of_crabs_at(1) + (sum_of_costs_before(1)) - (sum_of_costs_after(1)) = 290 - 2 + 1 - (2*3 + 4*1 + 7*1 + 14*1 + 16*1) = 242\n",
    "\n",
    "sum_of_costs_before(1) = nr_of_crabs_at(0)\n",
    "sum_of_costs_after(1) = (2-(1-1))*nr_of_crabs_at(2) + (3-(1-1))*nr_of_crabs_at(3) + (4-(1-1))*nr_of_crabs_at(4) + (5-(1-1))*nr_of_crabs_at(5) + (6-(1-1))*nr_of_crabs_at(6) + (7-(1-1))*nr_of_crabs_at(7) + ... + (16-(1-1))*nr_of_crabs_at(16)\n",
    ")\n",
    "\n",
    "```"
   ]
  },
  {
   "cell_type": "code",
   "execution_count": null,
   "metadata": {},
   "outputs": [],
   "source": [
    "%%ipytest -vv\n",
    "\n",
    "def get_nr_of_crabs_at_position(crabs):\n",
    "  nr_of_crabs_at_position = {}\n",
    "  for crab in crabs:\n",
    "    if crab in nr_of_crabs_at_position:\n",
    "      nr_of_crabs_at_position[crab] += 1\n",
    "    else:\n",
    "      nr_of_crabs_at_position[crab] = 1\n",
    "  return nr_of_crabs_at_position\n",
    "\n",
    "def sum_of(n):\n",
    "  return ((n+1)*n)//2\n",
    "\n",
    "def sum_of_costs_before(position, nr_of_crabs_at_position):\n",
    "  sum = 0\n",
    "  for p in range(position):\n",
    "    sum += (position - p) * nr_of_crabs_at_position.get(p, 0)\n",
    "  return sum\n",
    "\n",
    "def sum_of_costs_after(position, nr_of_crabs_at_position):\n",
    "  sum = 0\n",
    "  for p in nr_of_crabs_at_position.keys():\n",
    "    if p > position:\n",
    "      sum += (p - (position - 1)) * nr_of_crabs_at_position.get(p, 0)\n",
    "  return sum\n",
    "\n",
    "def cost_of_moving_all_to_position_part2(crabs, position, nr_of_crabs_at_position, cost_for_position):\n",
    "  if position == 0:\n",
    "    cost = reduce(lambda cost,crab: cost+(sum_of(abs(crab - position))), crabs, 0)\n",
    "    cost_for_position[position] = cost\n",
    "    return cost\n",
    "  else:\n",
    "    cost = (\n",
    "      cost_of_moving_all_to_position_part2(crabs, position - 1, nr_of_crabs_at_position, cost_for_position) \n",
    "      - nr_of_crabs_at_position.get(position, 0)\n",
    "      + sum_of_costs_before(position, nr_of_crabs_at_position) \n",
    "      - sum_of_costs_after(position, nr_of_crabs_at_position)\n",
    "    )\n",
    "    cost_for_position[position] = cost\n",
    "    return cost\n",
    "\n",
    "def test_cost_of_moving_all_to_position_part2():\n",
    "  file_path = \"day7-test.input\"\n",
    "  crabs = read_numbers_from_file(file_path)\n",
    "  nr_of_crabs_at_position = get_nr_of_crabs_at_position(crabs)\n",
    "  cost = cost_of_moving_all_to_position_part2(crabs, 5, nr_of_crabs_at_position, {})\n",
    "  assert cost == 168\n",
    "\n",
    "def cost_for_each_position(crabs):\n",
    "  nr_of_crabs_at_position = get_nr_of_crabs_at_position(crabs)\n",
    "  cost_for_position = {}\n",
    "  cost_of_moving_all_to_position_part2(crabs, max(crabs), nr_of_crabs_at_position, cost_for_position)\n",
    "  return cost_for_position\n",
    "\n",
    "def test_cost_for_each_position():\n",
    "  file_path = \"day7-test.input\"\n",
    "  crabs = read_numbers_from_file(file_path)\n",
    "  cost_for_position = cost_for_each_position(crabs)\n",
    "  assert min(cost_for_position, key=cost_for_position.get) == 5\n",
    "  assert cost_for_position[5] == 168"
   ]
  },
  {
   "cell_type": "code",
   "execution_count": null,
   "metadata": {},
   "outputs": [],
   "source": [
    "%%ipytest -vv\n",
    "\n",
    "def find_optimal_cost(crabs):\n",
    "  cost_for_position = cost_for_each_position(crabs)\n",
    "  return min(cost_for_position.values())\n",
    "\n",
    "def test_cost_of_moving_all_to_position_part2():\n",
    "  file_path = \"day7-test.input\"\n",
    "  crabs = read_numbers_from_file(file_path)\n",
    "  cost = find_optimal_cost(crabs)\n",
    "  assert cost == 168\n"
   ]
  },
  {
   "cell_type": "markdown",
   "metadata": {},
   "source": [
    "Solution part 2:"
   ]
  },
  {
   "cell_type": "code",
   "execution_count": null,
   "metadata": {},
   "outputs": [],
   "source": [
    "file_path = \"day7.input\"\n",
    "crabs = read_numbers_from_file(file_path)\n",
    "cost = find_optimal_cost(crabs)\n",
    "print(cost)"
   ]
  }
 ],
 "metadata": {
  "interpreter": {
   "hash": "8fbb8a35216137c772573c13ebc33c2d3acf14ff0612baf843a1fd6d63fc9b50"
  },
  "kernelspec": {
   "display_name": "Python 3.9.4 64-bit ('3.9.4': pyenv)",
   "language": "python",
   "name": "python3"
  },
  "language_info": {
   "codemirror_mode": {
    "name": "ipython",
    "version": 3
   },
   "file_extension": ".py",
   "mimetype": "text/x-python",
   "name": "python",
   "nbconvert_exporter": "python",
   "pygments_lexer": "ipython3",
   "version": "3.9.4"
  },
  "orig_nbformat": 4
 },
 "nbformat": 4,
 "nbformat_minor": 2
}
