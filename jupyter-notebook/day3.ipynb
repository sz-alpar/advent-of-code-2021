{
 "cells": [
  {
   "cell_type": "code",
   "execution_count": 75,
   "metadata": {},
   "outputs": [],
   "source": [
    "with open(\"day3.input\") as f:\n",
    "    lines = f.readlines()"
   ]
  },
  {
   "cell_type": "markdown",
   "metadata": {},
   "source": [
    "Part 1:"
   ]
  },
  {
   "cell_type": "code",
   "execution_count": 76,
   "metadata": {},
   "outputs": [],
   "source": [
    "def binary_to_decimal(array):\n",
    "  return sum([x*(2**idx) for (idx,x) in enumerate(array[::-1])])"
   ]
  },
  {
   "cell_type": "code",
   "execution_count": 77,
   "metadata": {},
   "outputs": [],
   "source": [
    "def to_epsilon(gamma_val):\n",
    "  return [0 if x == 1 else 1 for x in gamma_val]"
   ]
  },
  {
   "cell_type": "code",
   "execution_count": 78,
   "metadata": {},
   "outputs": [],
   "source": [
    "def get_max_col(lines, idx):\n",
    " number_of_ones = [line[idx] for line in lines].count('1')\n",
    " return 1 if number_of_ones >= (len(lines)/2) else 0\n",
    "\n",
    "gamma_val = [get_max_col(lines, x) for x in range(0,len(lines[0])-1)]\n",
    "epsilon_val = to_epsilon(gamma_val)"
   ]
  },
  {
   "cell_type": "code",
   "execution_count": 79,
   "metadata": {},
   "outputs": [
    {
     "data": {
      "text/plain": [
       "3429254"
      ]
     },
     "execution_count": 79,
     "metadata": {},
     "output_type": "execute_result"
    }
   ],
   "source": [
    "gamma_val_in_decimal = binary_to_decimal(gamma_val)\n",
    "epsilon_val_in_decimal = binary_to_decimal(epsilon_val)\n",
    "\n",
    "gamma_val_in_decimal*epsilon_val_in_decimal"
   ]
  },
  {
   "cell_type": "markdown",
   "metadata": {},
   "source": [
    "Part 2:"
   ]
  },
  {
   "cell_type": "code",
   "execution_count": 80,
   "metadata": {},
   "outputs": [
    {
     "data": {
      "text/plain": [
       "5410338"
      ]
     },
     "execution_count": 80,
     "metadata": {},
     "output_type": "execute_result"
    }
   ],
   "source": [
    "def get_diagnostic(array, idx, bit_criteria):\n",
    "  if len(array)==1:\n",
    "   return array\n",
    "  else:\n",
    "   max_of_col = get_max_col(array, idx) \n",
    "   filtered_max_of_col = list(filter(lambda item: bit_criteria(int(item[idx]), max_of_col) ,array))\n",
    "   return get_diagnostic(filtered_max_of_col, idx+1, bit_criteria)\n",
    "\n",
    "stripped_lines = [line.rstrip('\\n') for line in lines]\n",
    "ogr = get_diagnostic(stripped_lines, 0, lambda column, max_of_column: column == max_of_column)[0]\n",
    "csr = get_diagnostic(stripped_lines, 0, lambda column, max_of_column: column != max_of_column)[0]\n",
    "ogr_in_array_format = [int(x) for x in ogr]\n",
    "csr_in_array_format = [int(x) for x in csr]\n",
    "ogr_in_decimal = binary_to_decimal(ogr_in_array_format)\n",
    "csr_in_decimal = binary_to_decimal(csr_in_array_format)\n",
    "\n",
    "ogr_in_decimal*csr_in_decimal"
   ]
  }
 ],
 "metadata": {
  "interpreter": {
   "hash": "8fbb8a35216137c772573c13ebc33c2d3acf14ff0612baf843a1fd6d63fc9b50"
  },
  "kernelspec": {
   "display_name": "Python 3.9.4 64-bit ('3.9.4': pyenv)",
   "language": "python",
   "name": "python3"
  },
  "language_info": {
   "codemirror_mode": {
    "name": "ipython",
    "version": 3
   },
   "file_extension": ".py",
   "mimetype": "text/x-python",
   "name": "python",
   "nbconvert_exporter": "python",
   "pygments_lexer": "ipython3",
   "version": "3.9.4"
  },
  "orig_nbformat": 4
 },
 "nbformat": 4,
 "nbformat_minor": 2
}
