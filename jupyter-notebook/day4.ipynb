{
 "cells": [
  {
   "cell_type": "code",
   "execution_count": 20,
   "metadata": {},
   "outputs": [],
   "source": [
    "import ipytest\n",
    "ipytest.autoconfig()"
   ]
  },
  {
   "cell_type": "markdown",
   "id": "8eaf9d99",
   "metadata": {},
   "source": [
    "Read numbers from the input:"
   ]
  },
  {
   "cell_type": "code",
   "execution_count": 21,
   "id": "404e3344",
   "metadata": {},
   "outputs": [
    {
     "name": "stdout",
     "output_type": "stream",
     "text": [
      "\u001b[1m======================================= test session starts ========================================\u001b[0m\n",
      "platform darwin -- Python 3.9.4, pytest-6.2.5, py-1.11.0, pluggy-1.0.0 -- /Users/alpar/.pyenv/versions/3.9.4/bin/python\n",
      "cachedir: .pytest_cache\n",
      "rootdir: /Users/alpar/Documents/Projects/advent-of-code-2021/jupyter-notebook\n",
      "plugins: anyio-3.4.0\n",
      "\u001b[1mcollecting ... \u001b[0mcollected 3 items\n",
      "\n",
      "tmp7hzuw1gp.py::test_read_comma_separated_characters \u001b[32mPASSED\u001b[0m\u001b[32m                                  [ 33%]\u001b[0m\n",
      "tmp7hzuw1gp.py::test_convert_characters_to_numbers \u001b[32mPASSED\u001b[0m\u001b[32m                                    [ 66%]\u001b[0m\n",
      "tmp7hzuw1gp.py::test_read_numbers_until_end_of_line \u001b[32mPASSED\u001b[0m\u001b[32m                                   [100%]\u001b[0m\n",
      "\n",
      "\u001b[32m======================================== \u001b[32m\u001b[1m3 passed\u001b[0m\u001b[32m in 0.02s\u001b[0m\u001b[32m =========================================\u001b[0m\n"
     ]
    }
   ],
   "source": [
    "%%ipytest -vv\n",
    "\n",
    "def read_characters(input):\n",
    "  return input.split(\",\")\n",
    "\n",
    "def to_int(array):\n",
    "  return [int(x) for x in array]\n",
    "\n",
    "def read_numbers_from_file(file_path):\n",
    "  with open(file_path) as f:\n",
    "    for line in f:\n",
    "      return to_int(read_characters(line))\n",
    "\n",
    "def test_read_comma_separated_characters():\n",
    "  input = \"1,2,3,4\"\n",
    "  numbers = read_characters(input)\n",
    "  assert numbers == ['1','2','3','4']\n",
    "\n",
    "def test_convert_characters_to_numbers():\n",
    "  input = ['1','2','3','4']\n",
    "  numbers = to_int(input)\n",
    "  assert numbers == [1,2,3,4]\n",
    "\n",
    "def test_read_numbers_until_end_of_line():\n",
    "  file = \"day4-test1.input\"\n",
    "  numbers = read_numbers_from_file(file)\n",
    "  assert numbers == [7,4,9,5,11,17]"
   ]
  },
  {
   "cell_type": "markdown",
   "id": "f9b89495",
   "metadata": {},
   "source": [
    "Read bingo boards:"
   ]
  },
  {
   "cell_type": "code",
   "execution_count": 22,
   "id": "fd6b6c13",
   "metadata": {},
   "outputs": [
    {
     "name": "stdout",
     "output_type": "stream",
     "text": [
      "\u001b[1m======================================= test session starts ========================================\u001b[0m\n",
      "platform darwin -- Python 3.9.4, pytest-6.2.5, py-1.11.0, pluggy-1.0.0 -- /Users/alpar/.pyenv/versions/3.9.4/bin/python\n",
      "cachedir: .pytest_cache\n",
      "rootdir: /Users/alpar/Documents/Projects/advent-of-code-2021/jupyter-notebook\n",
      "plugins: anyio-3.4.0\n",
      "\u001b[1mcollecting ... \u001b[0mcollected 2 items\n",
      "\n",
      "tmpk6z_512m.py::test_read_row \u001b[32mPASSED\u001b[0m\u001b[32m                                                         [ 50%]\u001b[0m\n",
      "tmpk6z_512m.py::test_read_all_boards_from_file \u001b[32mPASSED\u001b[0m\u001b[32m                                        [100%]\u001b[0m\n",
      "\n",
      "\u001b[32m======================================== \u001b[32m\u001b[1m2 passed\u001b[0m\u001b[32m in 0.02s\u001b[0m\u001b[32m =========================================\u001b[0m\n"
     ]
    }
   ],
   "source": [
    "%%ipytest -vv\n",
    "\n",
    "import re\n",
    "\n",
    "def read_row(input):\n",
    "  return [(x, False) for x in to_int(re.split(r'[ ]+', input.lstrip().rstrip('\\n')))]\n",
    "\n",
    "def read_all_boards(file_path):\n",
    "  boards = []\n",
    "  board = []\n",
    "  line_counter = 0 \n",
    "  with open(file_path) as f:\n",
    "    for (idx, line) in enumerate(f):\n",
    "      if idx < 2:\n",
    "        continue\n",
    "\n",
    "      if line == \"\\n\":\n",
    "        continue\n",
    "\n",
    "      board.append(read_row(line))\n",
    "\n",
    "      if (line_counter+1) % 5 == 0:\n",
    "        boards.append(board)\n",
    "        board = []\n",
    "      \n",
    "      line_counter += 1\n",
    "        \n",
    "  return boards\n",
    "\n",
    "def test_read_row():\n",
    "  input = \" 5 84  3  7 87\"\n",
    "  row = read_row(input)\n",
    "  assert row == [(5,False),(84,False),(3,False),(7,False),(87,False)]\n",
    "  \n",
    "def test_read_all_boards_from_file():\n",
    "  file = \"day4-test3.input\"\n",
    "  boards = read_all_boards(file)\n",
    "  print(boards)\n",
    "  assert boards == [\n",
    "    [[(10, False),(27, False),(53, False),(91, False),(86, False)], \n",
    "    [(15, False),(94, False),(47, False),(38, False),(61, False)], \n",
    "    [(32, False),(68, False), (8, False),(88, False), (9, False)], \n",
    "    [(35, False),(84, False), (3, False), (7, False),(87, False)], \n",
    "    [(62, False),(78, False),(90, False),(66, False),(64, False)]],\n",
    "    [[(30, False), (51, False), (26, False), (16, False), (57, False)],\n",
    "    [(66, False), (88, False), (47, False), (75, False), (23, False)],\n",
    "    [(61, False), (77, False), (64, False),  (9, False), (73, False)],\n",
    "    [(44, False), (32, False), (28, False), (80, False), (81, False)],\n",
    "    [ (3, False), (99, False), (67, False), (49, False), (78, False)]],\n",
    "    [[(68, False), (92, False), (82, False), (74, False), (83, False)],\n",
    "    [(12, False), (99, False), (80, False), (72, False),  (3, False)],\n",
    "    [(56, False), (96, False), (36, False), (28, False), (43, False)],\n",
    "    [(2, False),  (7, False), (14, False), (24, False),  (9, False)],\n",
    "    [(63, False), (76, False), (40, False), (37, False), (73, False)]]\n",
    "  ]\n",
    "\n"
   ]
  },
  {
   "cell_type": "markdown",
   "id": "a9c8469c",
   "metadata": {},
   "source": [
    "Mark numbers on bingo boards and detect winner boards:"
   ]
  },
  {
   "cell_type": "code",
   "execution_count": 23,
   "id": "3cea2de9",
   "metadata": {},
   "outputs": [],
   "source": [
    "#1. for each number in the input\n",
    "#2. for each board\n",
    "#3. Mark if exists\n",
    "#4. First board that has either all entries in horizontal or vertical direction marked is the winner"
   ]
  },
  {
   "cell_type": "code",
   "execution_count": 24,
   "id": "06c0cc01",
   "metadata": {},
   "outputs": [
    {
     "name": "stdout",
     "output_type": "stream",
     "text": [
      "\u001b[1m======================================= test session starts ========================================\u001b[0m\n",
      "platform darwin -- Python 3.9.4, pytest-6.2.5, py-1.11.0, pluggy-1.0.0 -- /Users/alpar/.pyenv/versions/3.9.4/bin/python\n",
      "cachedir: .pytest_cache\n",
      "rootdir: /Users/alpar/Documents/Projects/advent-of-code-2021/jupyter-notebook\n",
      "plugins: anyio-3.4.0\n",
      "\u001b[1mcollecting ... \u001b[0mcollected 4 items\n",
      "\n",
      "tmpyb82ez0u.py::test_is_winner_with_row_marked \u001b[32mPASSED\u001b[0m\u001b[32m                                        [ 25%]\u001b[0m\n",
      "tmpyb82ez0u.py::test_is_winner_with_column_marked \u001b[32mPASSED\u001b[0m\u001b[32m                                     [ 50%]\u001b[0m\n",
      "tmpyb82ez0u.py::test_calculate_score \u001b[32mPASSED\u001b[0m\u001b[32m                                                  [ 75%]\u001b[0m\n",
      "tmpyb82ez0u.py::test_play_bingo \u001b[32mPASSED\u001b[0m\u001b[32m                                                       [100%]\u001b[0m\n",
      "\n",
      "\u001b[32m======================================== \u001b[32m\u001b[1m4 passed\u001b[0m\u001b[32m in 0.03s\u001b[0m\u001b[32m =========================================\u001b[0m\n"
     ]
    }
   ],
   "source": [
    "%%ipytest -vv\n",
    "\n",
    "def mark_number(number, board):\n",
    "  for (row_idx, row) in enumerate(board):\n",
    "    for (col_idx, (nr,is_marked)) in enumerate(row):\n",
    "      if nr == number and is_marked==False:\n",
    "        board[row_idx][col_idx] = (nr, True)\n",
    "        return True\n",
    "  return False  \n",
    "\n",
    "def play_bingo(numbers, boards):\n",
    "  for number in numbers:\n",
    "    for board in boards:\n",
    "      mark_number(number, board)\n",
    "      if is_winner(board):\n",
    "        return calculate_score(number, board)\n",
    "\n",
    "def is_winner(board):\n",
    "  for row in board:\n",
    "    if all([is_marked for (_, is_marked) in row]):\n",
    "      return True\n",
    "\n",
    "  column_length = len(board[0])\n",
    "  for col_idx in range(column_length):\n",
    "    if all([row[col_idx][1] for row in board]):\n",
    "      return True\n",
    "\n",
    "  return False\n",
    "\n",
    "def calculate_score(last_number, board):\n",
    "  return last_number * sum([number for row in board for (number, is_marked) in row if is_marked == False])\n",
    "\n",
    "def test_is_winner_with_row_marked():\n",
    "  file_path = \"day4-test3.input\"\n",
    "  boards = read_all_boards(file_path)\n",
    "  first_board = boards[0]\n",
    "  first_board[1] = [(number, True) for (number, _) in first_board[1]]\n",
    "  assert True == is_winner(first_board)\n",
    "\n",
    "def test_is_winner_with_column_marked():\n",
    "  file_path = \"day4-test3.input\"\n",
    "  boards = read_all_boards(file_path)\n",
    "  for row in boards[1]:\n",
    "     for (idx, (number, _)) in enumerate(row):\n",
    "      if idx == 1:\n",
    "        row[idx] = (number,True)\n",
    "  assert True == is_winner(boards[1])\n",
    "\n",
    "def test_calculate_score():\n",
    "  file_path = \"day4-test3.input\"\n",
    "  boards = read_all_boards(file_path)\n",
    "  first_board = boards[0]\n",
    "  first_board[1] = [(number, True) for (number, _) in first_board[1]]\n",
    "  last_number = first_board[1][2][0]\n",
    "  score = calculate_score(last_number, first_board)\n",
    "  assert score == 49256\n",
    "\n",
    "def test_play_bingo():\n",
    "  file_path = \"day4-test4.input\"\n",
    "  numbers = read_numbers_from_file(file_path)\n",
    "  boards = read_all_boards(file_path)\n",
    "  result = play_bingo(numbers, boards)\n",
    "  assert result == 4512"
   ]
  },
  {
   "cell_type": "markdown",
   "id": "196ef5ee",
   "metadata": {},
   "source": [
    "Solution part 1:"
   ]
  },
  {
   "cell_type": "code",
   "execution_count": 25,
   "id": "d2c337e5",
   "metadata": {},
   "outputs": [
    {
     "name": "stdout",
     "output_type": "stream",
     "text": [
      "38594\n"
     ]
    }
   ],
   "source": [
    "file_path = \"day4.input\"\n",
    "numbers = read_numbers_from_file(file_path)\n",
    "boards = read_all_boards(file_path)\n",
    "result = play_bingo(numbers, boards)\n",
    "print(result)"
   ]
  },
  {
   "cell_type": "code",
   "execution_count": null,
   "id": "5a97297b",
   "metadata": {},
   "outputs": [],
   "source": []
  },
  {
   "cell_type": "code",
   "execution_count": 26,
   "id": "c4e41a1b",
   "metadata": {},
   "outputs": [
    {
     "name": "stdout",
     "output_type": "stream",
     "text": [
      "\u001b[1m======================================= test session starts ========================================\u001b[0m\n",
      "platform darwin -- Python 3.9.4, pytest-6.2.5, py-1.11.0, pluggy-1.0.0 -- /Users/alpar/.pyenv/versions/3.9.4/bin/python\n",
      "cachedir: .pytest_cache\n",
      "rootdir: /Users/alpar/Documents/Projects/advent-of-code-2021/jupyter-notebook\n",
      "plugins: anyio-3.4.0\n",
      "\u001b[1mcollecting ... \u001b[0mcollected 1 item\n",
      "\n",
      "tmpdy7xeb4_.py::test_last_to_win \u001b[32mPASSED\u001b[0m\u001b[32m                                                      [100%]\u001b[0m\n",
      "\n",
      "\u001b[32m======================================== \u001b[32m\u001b[1m1 passed\u001b[0m\u001b[32m in 0.02s\u001b[0m\u001b[32m =========================================\u001b[0m\n"
     ]
    }
   ],
   "source": [
    "%%ipytest -vv\n",
    "\n",
    "def play_bingo_last_to_win(numbers, boards):\n",
    "  winners = {}\n",
    "  for number in numbers:\n",
    "    for (idx, board) in enumerate(boards):\n",
    "      if mark_number(number, board):\n",
    "        if idx not in winners.keys() and is_winner(board):\n",
    "          score = calculate_score(number, board)\n",
    "          winners[idx] = score\n",
    "  \n",
    "  return [score for (_, score) in winners.items()][-1]\n",
    "\n",
    "def test_last_to_win():\n",
    "  file_path = \"day4-test4.input\"\n",
    "  numbers = read_numbers_from_file(file_path)\n",
    "  boards = read_all_boards(file_path)\n",
    "  result = play_bingo_last_to_win(numbers, boards)\n",
    "  assert result == 1924"
   ]
  },
  {
   "cell_type": "markdown",
   "id": "c193a73b",
   "metadata": {},
   "source": [
    "Solution part 2:"
   ]
  },
  {
   "cell_type": "code",
   "execution_count": 28,
   "id": "8c69dfa3",
   "metadata": {},
   "outputs": [
    {
     "name": "stdout",
     "output_type": "stream",
     "text": [
      "21184\n"
     ]
    }
   ],
   "source": [
    "file_path = \"day4.input\"\n",
    "numbers = read_numbers_from_file(file_path)\n",
    "boards = read_all_boards(file_path)\n",
    "result = play_bingo_last_to_win(numbers, boards)\n",
    "print(result)"
   ]
  }
 ],
 "metadata": {
  "interpreter": {
   "hash": "8fbb8a35216137c772573c13ebc33c2d3acf14ff0612baf843a1fd6d63fc9b50"
  },
  "kernelspec": {
   "display_name": "Python 3.9.4 64-bit ('3.9.4': pyenv)",
   "language": "python",
   "name": "python3"
  },
  "language_info": {
   "codemirror_mode": {
    "name": "ipython",
    "version": 3
   },
   "file_extension": ".py",
   "mimetype": "text/x-python",
   "name": "python",
   "nbconvert_exporter": "python",
   "pygments_lexer": "ipython3",
   "version": "3.9.4"
  }
 },
 "nbformat": 4,
 "nbformat_minor": 5
}
