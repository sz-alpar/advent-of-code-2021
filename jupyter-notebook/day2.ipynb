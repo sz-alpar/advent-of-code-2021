{
 "cells": [
  {
   "cell_type": "code",
   "execution_count": 31,
   "metadata": {},
   "outputs": [],
   "source": [
    "with open(\"day2.input\") as f:\n",
    "    lines = f.readlines()"
   ]
  },
  {
   "cell_type": "markdown",
   "metadata": {},
   "source": [
    "Part 1:"
   ]
  },
  {
   "cell_type": "code",
   "execution_count": 32,
   "metadata": {},
   "outputs": [
    {
     "name": "stdout",
     "output_type": "stream",
     "text": [
      "1714950\n"
     ]
    }
   ],
   "source": [
    "h_position = 0\n",
    "depth = 0\n",
    "for line in lines:\n",
    "  command = line.split(\" \")\n",
    "  direction = command[0]\n",
    "  unit = int(command[1].rstrip('\\n'))\n",
    "  if direction == \"forward\":\n",
    "    h_position += unit\n",
    "  elif direction == \"down\":\n",
    "    depth += unit\n",
    "  elif direction == \"up\":\n",
    "    depth -= unit\n",
    "\n",
    "print(h_position * depth)"
   ]
  },
  {
   "cell_type": "markdown",
   "metadata": {},
   "source": [
    "Part 2:"
   ]
  },
  {
   "cell_type": "code",
   "execution_count": 33,
   "metadata": {},
   "outputs": [
    {
     "name": "stdout",
     "output_type": "stream",
     "text": [
      "1281977850\n"
     ]
    }
   ],
   "source": [
    "h_position = 0\n",
    "depth = 0\n",
    "aim = 0\n",
    "for line in lines:\n",
    "  command = line.split(\" \")\n",
    "  direction = command[0]\n",
    "  unit = int(command[1].rstrip('\\n'))\n",
    "  if direction == \"forward\":\n",
    "    h_position += unit\n",
    "    depth += (aim * unit)\n",
    "  elif direction == \"down\":\n",
    "    aim += unit\n",
    "  elif direction == \"up\":\n",
    "    aim -= unit\n",
    "\n",
    "print(h_position * depth)"
   ]
  }
 ],
 "metadata": {
  "interpreter": {
   "hash": "8fbb8a35216137c772573c13ebc33c2d3acf14ff0612baf843a1fd6d63fc9b50"
  },
  "kernelspec": {
   "display_name": "Python 3.9.4 64-bit ('3.9.4': pyenv)",
   "language": "python",
   "name": "python3"
  },
  "language_info": {
   "codemirror_mode": {
    "name": "ipython",
    "version": 3
   },
   "file_extension": ".py",
   "mimetype": "text/x-python",
   "name": "python",
   "nbconvert_exporter": "python",
   "pygments_lexer": "ipython3",
   "version": "3.9.4"
  },
  "orig_nbformat": 4
 },
 "nbformat": 4,
 "nbformat_minor": 2
}
