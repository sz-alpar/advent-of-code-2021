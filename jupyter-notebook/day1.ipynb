{
 "cells": [
  {
   "cell_type": "code",
   "execution_count": 4,
   "id": "5f1edc0f-c0ff-43e9-9d43-98d757ab2d96",
   "metadata": {
    "tags": []
   },
   "outputs": [],
   "source": [
    "with open(\"day1.input\") as f:\n",
    "    lines = f.readlines() "
   ]
  },
  {
   "cell_type": "code",
   "execution_count": 5,
   "id": "eb80da0c-5244-459e-ae86-f81ec4e8a658",
   "metadata": {},
   "outputs": [],
   "source": [
    "stripped_numbers = []\n",
    "for x in lines:\n",
    "    stripped_numbers.append(int(x.rstrip('\\n')))"
   ]
  },
  {
   "cell_type": "code",
   "execution_count": 7,
   "id": "26ccf586-06bf-4009-8fc8-3629bac8fa14",
   "metadata": {},
   "outputs": [],
   "source": [
    "from functools import reduce"
   ]
  },
  {
   "cell_type": "code",
   "execution_count": 8,
   "id": "b8677919-299e-49de-bf5e-34b33326bd4d",
   "metadata": {},
   "outputs": [
    {
     "data": {
      "text/plain": [
       "1715"
      ]
     },
     "execution_count": 8,
     "metadata": {},
     "output_type": "execute_result"
    }
   ],
   "source": [
    "reduce(lambda counter,item: counter+1 if item[0] < item[1] else counter, zip(stripped_numbers,stripped_numbers[1:]), 0)"
   ]
  },
  {
   "cell_type": "code",
   "execution_count": 9,
   "id": "668cacf4-fccc-473e-ab9b-31450edb81a3",
   "metadata": {},
   "outputs": [
    {
     "data": {
      "text/plain": [
       "2000"
      ]
     },
     "execution_count": 9,
     "metadata": {},
     "output_type": "execute_result"
    }
   ],
   "source": [
    "len(stripped_numbers)"
   ]
  },
  {
   "cell_type": "code",
   "execution_count": 10,
   "id": "e5a85307-23e0-4a36-bacd-2ccd0f3163e2",
   "metadata": {
    "collapsed": true,
    "jupyter": {
     "outputs_hidden": true
    },
    "tags": []
   },
   "outputs": [],
   "source": [
    "sliding_window=[]\n",
    "for i in range(2, len(stripped_numbers)):\n",
    "    sliding_window.append([stripped_numbers[i-2], stripped_numbers[i-1], stripped_numbers[i]])"
   ]
  },
  {
   "cell_type": "code",
   "execution_count": 11,
   "id": "6398d007-5c8b-428a-9484-b6810105e0c1",
   "metadata": {},
   "outputs": [
    {
     "data": {
      "text/plain": [
       "1739"
      ]
     },
     "execution_count": 11,
     "metadata": {},
     "output_type": "execute_result"
    }
   ],
   "source": [
    "reduce(lambda counter,item: counter+1 if sum(item[0]) < sum(item[1]) else counter, zip(sliding_window,sliding_window[1:]), 0)"
   ]
  },
  {
   "cell_type": "code",
   "execution_count": 12,
   "id": "0f377da5-2a3b-44e6-bb50-b559bd63a8ca",
   "metadata": {},
   "outputs": [],
   "source": [
    "sliding_window = [list(a) for a in zip(zip(stripped_numbers,stripped_numbers[1:]), stripped_numbers[2:])]"
   ]
  },
  {
   "cell_type": "code",
   "execution_count": 12,
   "id": "8942d834-cc7c-475e-a47b-11ceb4fb916a",
   "metadata": {},
   "outputs": [
    {
     "data": {
      "text/plain": [
       "1739"
      ]
     },
     "execution_count": 12,
     "metadata": {},
     "output_type": "execute_result"
    }
   ],
   "source": [
    "reduce(lambda counter,item: counter+1 if (item[0][0][0] + item[0][0][1] + item[0][1]) < (item[1][0][0] + item[1][0][1] + item[1][1]) else counter, zip(sliding_window, sliding_window[1:]), 0)"
   ]
  }
 ],
 "metadata": {
  "kernelspec": {
   "display_name": "Python 3 (ipykernel)",
   "language": "python",
   "name": "python3"
  },
  "language_info": {
   "codemirror_mode": {
    "name": "ipython",
    "version": 3
   },
   "file_extension": ".py",
   "mimetype": "text/x-python",
   "name": "python",
   "nbconvert_exporter": "python",
   "pygments_lexer": "ipython3",
   "version": "3.9.4"
  }
 },
 "nbformat": 4,
 "nbformat_minor": 5
}
